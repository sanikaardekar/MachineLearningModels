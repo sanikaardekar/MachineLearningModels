{
  "nbformat": 4,
  "nbformat_minor": 0,
  "metadata": {
    "colab": {
      "provenance": []
    },
    "kernelspec": {
      "name": "python3",
      "display_name": "Python 3"
    },
    "language_info": {
      "name": "python"
    }
  },
  "cells": [
    {
      "cell_type": "code",
      "execution_count": null,
      "metadata": {
        "id": "Ax8pgRJZG3NK"
      },
      "outputs": [],
      "source": [
        "import numpy as np\n",
        "import pandas as pd\n",
        "import matplotlib.pyplot as plt\n",
        "import seaborn as sns\n",
        "import matplotlib.pyplot as plt\n",
        "import sklearn.datasets\n",
        "from google.colab import drive\n",
        "from sklearn.metrics import accuracy_score\n",
        "from sklearn.datasets import load_iris"
      ]
    },
    {
      "cell_type": "code",
      "source": [
        "drive.mount('/content/drive')\n",
        "df = pd.read_csv('/content/drive/My Drive/colab_ntbk_2/IRIS.csv', index_col=0, dtype={'Species': 'category'})\n",
        "print(df)"
      ],
      "metadata": {
        "colab": {
          "base_uri": "https://localhost:8080/"
        },
        "id": "UVF2BRxwJNfW",
        "outputId": "935de5dd-d022-4c0c-dcc1-dcb5070563a9"
      },
      "execution_count": null,
      "outputs": [
        {
          "output_type": "stream",
          "name": "stdout",
          "text": [
            "Drive already mounted at /content/drive; to attempt to forcibly remount, call drive.mount(\"/content/drive\", force_remount=True).\n",
            "              sepal_width  petal_length  petal_width         species\n",
            "sepal_length                                                        \n",
            "5.1                   3.5           1.4          0.2     Iris-setosa\n",
            "4.9                   3.0           1.4          0.2     Iris-setosa\n",
            "4.7                   3.2           1.3          0.2     Iris-setosa\n",
            "4.6                   3.1           1.5          0.2     Iris-setosa\n",
            "5.0                   3.6           1.4          0.2     Iris-setosa\n",
            "...                   ...           ...          ...             ...\n",
            "6.7                   3.0           5.2          2.3  Iris-virginica\n",
            "6.3                   2.5           5.0          1.9  Iris-virginica\n",
            "6.5                   3.0           5.2          2.0  Iris-virginica\n",
            "6.2                   3.4           5.4          2.3  Iris-virginica\n",
            "5.9                   3.0           5.1          1.8  Iris-virginica\n",
            "\n",
            "[150 rows x 4 columns]\n"
          ]
        }
      ]
    },
    {
      "cell_type": "code",
      "source": [
        "df.info()"
      ],
      "metadata": {
        "colab": {
          "base_uri": "https://localhost:8080/"
        },
        "id": "_WV_wLeiLHcC",
        "outputId": "53d872cc-e37e-4fdf-92ef-5d352bf2ef87"
      },
      "execution_count": null,
      "outputs": [
        {
          "output_type": "stream",
          "name": "stdout",
          "text": [
            "<class 'pandas.core.frame.DataFrame'>\n",
            "Float64Index: 150 entries, 5.1 to 5.9\n",
            "Data columns (total 4 columns):\n",
            " #   Column        Non-Null Count  Dtype  \n",
            "---  ------        --------------  -----  \n",
            " 0   sepal_width   150 non-null    float64\n",
            " 1   petal_length  150 non-null    float64\n",
            " 2   petal_width   150 non-null    float64\n",
            " 3   species       150 non-null    object \n",
            "dtypes: float64(3), object(1)\n",
            "memory usage: 5.9+ KB\n"
          ]
        }
      ]
    },
    {
      "cell_type": "markdown",
      "source": [
        "Iris dataset"
      ],
      "metadata": {
        "id": "IKqntRb8r3vj"
      }
    },
    {
      "cell_type": "markdown",
      "source": [
        "decision tree"
      ],
      "metadata": {
        "id": "JekO_TxMR3bl"
      }
    },
    {
      "cell_type": "code",
      "source": [
        "from sklearn.model_selection import train_test_split\n",
        "from sklearn.tree import DecisionTreeClassifier\n",
        "from sklearn import tree\n",
        "iris = load_iris()\n",
        "X, y = iris.data, iris.target\n",
        "X_train, X_test, y_train, y_test = train_test_split(X, y, test_size=0.3, random_state=42)\n",
        "clf = tree.DecisionTreeClassifier()\n",
        "y_pred = clf.fit(X_train, y_train).predict(X_test)\n",
        "clf = clf.fit(X, y)\n",
        "\n",
        "\n",
        "tree.plot_tree(clf)\n",
        "[...]\n",
        "from sklearn.metrics import confusion_matrix, accuracy_score\n",
        "ac = accuracy_score(y_test,y_pred)\n",
        "cm = confusion_matrix(y_test, y_pred)\n",
        "\n",
        "print(\"The confusion matrix is: \")\n",
        "print(cm)\n",
        "print(\"The accuracy score is: \")\n",
        "print(ac)"
      ],
      "metadata": {
        "id": "mNe5TE4qOmYl",
        "colab": {
          "base_uri": "https://localhost:8080/",
          "height": 352
        },
        "outputId": "490b8167-fbdc-4053-e7c5-87550173141c"
      },
      "execution_count": null,
      "outputs": [
        {
          "output_type": "stream",
          "name": "stdout",
          "text": [
            "The confusion matrix is: \n",
            "[[19  0  0]\n",
            " [ 0 13  0]\n",
            " [ 0  0 13]]\n",
            "The accuracy score is: \n",
            "1.0\n"
          ]
        },
        {
          "output_type": "display_data",
          "data": {
            "text/plain": [
              "<Figure size 432x288 with 1 Axes>"
            ],
            "image/png": "[encoded data removed]"
          },
          "metadata": {
            "needs_background": "light"
          }
        }
      ]
    },
    {
      "cell_type": "markdown",
      "source": [
        "naive bayes\n"
      ],
      "metadata": {
        "id": "b_MakzyIR6dO"
      }
    },
    {
      "cell_type": "code",
      "source": [
        "from sklearn.naive_bayes import GaussianNB\n",
        "X, y = load_iris(return_X_y=True)\n",
        "X_train, X_test, y_train, y_test = train_test_split(X, y, test_size=0.3, random_state=42)\n",
        "gnb = GaussianNB()\n",
        "y_pred = gnb.fit(X_train, y_train).predict(X_test)\n",
        "print(\"Number of mislabeled points out of a total %d points : %d\"% (X_test.shape[0], (y_test != y_pred).sum()))\n",
        "from sklearn.metrics import confusion_matrix, accuracy_score\n",
        "ac = accuracy_score(y_test,y_pred)\n",
        "cm = confusion_matrix(y_test, y_pred)\n",
        "\n",
        "print(\"The confusion matrix is: \")\n",
        "print(cm)\n",
        "print(\"The accuracy score is: \")\n",
        "print(ac)"
      ],
      "metadata": {
        "id": "wi8YPD6_dhNi",
        "colab": {
          "base_uri": "https://localhost:8080/"
        },
        "outputId": "8257395c-efaa-4367-8175-90d64feea8aa"
      },
      "execution_count": null,
      "outputs": [
        {
          "output_type": "stream",
          "name": "stdout",
          "text": [
            "Number of mislabeled points out of a total 45 points : 1\n",
            "The confusion matrix is: \n",
            "[[19  0  0]\n",
            " [ 0 12  1]\n",
            " [ 0  0 13]]\n",
            "The accuracy score is: \n",
            "0.9777777777777777\n"
          ]
        }
      ]
    },
    {
      "cell_type": "markdown",
      "source": [
        "digits dataset"
      ],
      "metadata": {
        "id": "B73NaMLKsKWA"
      }
    },
    {
      "cell_type": "markdown",
      "source": [
        "NB"
      ],
      "metadata": {
        "id": "kl-1a3Qbtwh2"
      }
    },
    {
      "cell_type": "code",
      "source": [
        "from sklearn.datasets import load_digits\n",
        "X, y = load_digits(return_X_y=True)\n",
        "X_train, X_test, y_train, y_test = train_test_split(X, y, test_size=0.3, random_state=42)\n",
        "gnb = GaussianNB()\n",
        "y_pred = gnb.fit(X_train, y_train).predict(X_test)\n",
        "print(\"Number of mislabeled points out of a total %d points : %d\"% (X_test.shape[0], (y_test != y_pred).sum()))\n",
        "from sklearn.metrics import confusion_matrix, accuracy_score\n",
        "ac = accuracy_score(y_test,y_pred)\n",
        "cm = confusion_matrix(y_test, y_pred)\n",
        "\n",
        "print(\"The confusion matrix is: \")\n",
        "print(cm)\n",
        "print(\"The accuracy score is: \")\n",
        "print(ac)"
      ],
      "metadata": {
        "colab": {
          "base_uri": "https://localhost:8080/"
        },
        "id": "t1AV4uNEsI-Q",
        "outputId": "19a57567-d456-4b25-b9f5-d58c04043fa5"
      },
      "execution_count": null,
      "outputs": [
        {
          "output_type": "stream",
          "name": "stdout",
          "text": [
            "Number of mislabeled points out of a total 540 points : 80\n",
            "The confusion matrix is: \n",
            "[[52  0  0  0  0  0  0  1  0  0]\n",
            " [ 0 37  2  0  0  0  0  2  6  3]\n",
            " [ 0  3 31  0  0  0  1  0 12  0]\n",
            " [ 0  0  2 41  0  0  1  0  8  2]\n",
            " [ 0  0  0  0 51  0  2  7  0  0]\n",
            " [ 0  0  0  1  0 62  1  2  0  0]\n",
            " [ 0  0  0  0  1  1 51  0  0  0]\n",
            " [ 0  0  0  0  0  1  0 54  0  0]\n",
            " [ 0  2  0  0  0  0  0  2 39  0]\n",
            " [ 0  1  1  1  0  2  1  7  4 42]]\n",
            "The accuracy score is: \n",
            "0.8518518518518519\n"
          ]
        }
      ]
    },
    {
      "cell_type": "markdown",
      "source": [
        "DT"
      ],
      "metadata": {
        "id": "ZasVKsT3tyom"
      }
    },
    {
      "cell_type": "code",
      "source": [
        "digits = load_digits()\n",
        "X, y = digits.data, digits.target\n",
        "X_train, X_test, y_train, y_test = train_test_split(X, y, test_size=0.3, random_state=42)\n",
        "clf = tree.DecisionTreeClassifier()\n",
        "y_pred = clf.fit(X_train, y_train).predict(X_test)\n",
        "clf = clf.fit(X, y)\n",
        "\n",
        "\n",
        "tree.plot_tree(clf)\n",
        "[...]\n",
        "from sklearn.metrics import confusion_matrix, accuracy_score\n",
        "ac = accuracy_score(y_test,y_pred)\n",
        "cm = confusion_matrix(y_test, y_pred)\n",
        "\n",
        "print(\"The confusion matrix is: \")\n",
        "print(cm)\n",
        "print(\"The accuracy score is: \")\n",
        "print(ac)"
      ],
      "metadata": {
        "colab": {
          "base_uri": "https://localhost:8080/",
          "height": 474
        },
        "id": "zmy0IH8utze-",
        "outputId": "8ed2ba98-5a2c-44b5-b76d-5d43c524e110"
      },
      "execution_count": null,
      "outputs": [
        {
          "output_type": "stream",
          "name": "stdout",
          "text": [
            "The confusion matrix is: \n",
            "[[48  0  1  1  1  1  0  0  0  1]\n",
            " [ 1 37  6  0  0  0  3  1  1  1]\n",
            " [ 2  3 37  3  0  0  1  0  1  0]\n",
            " [ 0  1  1 46  1  1  0  0  1  3]\n",
            " [ 0  3  0  0 50  0  3  2  1  1]\n",
            " [ 0  0  0  1  0 63  1  0  1  0]\n",
            " [ 0  0  1  1  1  1 49  0  0  0]\n",
            " [ 0  1  0  4  2  0  0 46  1  1]\n",
            " [ 0  3  0  1  0  2  0  0 36  1]\n",
            " [ 0  0  2  1  1  3  0  3  1 48]]\n",
            "The accuracy score is: \n",
            "0.8518518518518519\n"
          ]
        },
        {
          "output_type": "display_data",
          "data": {
            "text/plain": [
              "<Figure size 432x288 with 1 Axes>"
            ],
            "image/png": "[encoded data removed]"
          },
          "metadata": {
            "needs_background": "light"
          }
        }
      ]
    },
    {
      "cell_type": "markdown",
      "source": [
        "wine dataset"
      ],
      "metadata": {
        "id": "C1ebHYnvt77l"
      }
    },
    {
      "cell_type": "markdown",
      "source": [
        "NB"
      ],
      "metadata": {
        "id": "u8BTJlDTuBiI"
      }
    },
    {
      "cell_type": "code",
      "source": [
        "from sklearn.datasets import load_wine\n",
        "X, y = load_wine(return_X_y=True)\n",
        "X_train, X_test, y_train, y_test = train_test_split(X, y, test_size=0.3, random_state=42)\n",
        "gnb = GaussianNB()\n",
        "y_pred = gnb.fit(X_train, y_train).predict(X_test)\n",
        "print(\"Number of mislabeled points out of a total %d points : %d\"% (X_test.shape[0], (y_test != y_pred).sum()))\n",
        "from sklearn.metrics import confusion_matrix, accuracy_score\n",
        "ac = accuracy_score(y_test,y_pred)\n",
        "cm = confusion_matrix(y_test, y_pred)\n",
        "\n",
        "print(\"The confusion matrix is: \")\n",
        "print(cm)\n",
        "print(\"The accuracy score is: \")\n",
        "print(ac)"
      ],
      "metadata": {
        "id": "r-Ffk11osI_a",
        "colab": {
          "base_uri": "https://localhost:8080/"
        },
        "outputId": "d274c3bd-0012-4f48-be42-0234198ca2e4"
      },
      "execution_count": null,
      "outputs": [
        {
          "output_type": "stream",
          "name": "stdout",
          "text": [
            "Number of mislabeled points out of a total 54 points : 0\n",
            "The confusion matrix is: \n",
            "[[19  0  0]\n",
            " [ 0 21  0]\n",
            " [ 0  0 14]]\n",
            "The accuracy score is: \n",
            "1.0\n"
          ]
        }
      ]
    },
    {
      "cell_type": "markdown",
      "source": [
        "DT"
      ],
      "metadata": {
        "id": "DVG9taJeuDLS"
      }
    },
    {
      "cell_type": "code",
      "source": [
        "wine = load_wine()\n",
        "X, y = wine.data, wine.target\n",
        "X_train, X_test, y_train, y_test = train_test_split(X, y, test_size=0.3, random_state=42)\n",
        "clf = tree.DecisionTreeClassifier()\n",
        "y_pred = clf.fit(X_train, y_train).predict(X_test)\n",
        "clf = clf.fit(X, y)\n",
        "\n",
        "\n",
        "tree.plot_tree(clf)\n",
        "[...]\n",
        "from sklearn.metrics import confusion_matrix, accuracy_score\n",
        "ac = accuracy_score(y_test,y_pred)\n",
        "cm = confusion_matrix(y_test, y_pred)\n",
        "\n",
        "print(\"The confusion matrix is: \")\n",
        "print(cm)\n",
        "print(\"The accuracy score is: \")\n",
        "print(ac)"
      ],
      "metadata": {
        "id": "IWy-SBJPuEEp",
        "colab": {
          "base_uri": "https://localhost:8080/",
          "height": 352
        },
        "outputId": "28915d53-1929-47f1-d19f-e6402a0913d7"
      },
      "execution_count": null,
      "outputs": [
        {
          "output_type": "stream",
          "name": "stdout",
          "text": [
            "The confusion matrix is: \n",
            "[[17  2  0]\n",
            " [ 0 21  0]\n",
            " [ 0  1 13]]\n",
            "The accuracy score is: \n",
            "0.9444444444444444\n"
          ]
        },
        {
          "output_type": "display_data",
          "data": {
            "text/plain": [
              "<Figure size 432x288 with 1 Axes>"
            ],
            "image/png": "[encoded data removed]"
          },
          "metadata": {
            "needs_background": "light"
          }
        }
      ]
    },
    {
      "cell_type": "markdown",
      "source": [
        "breast cancer dataset"
      ],
      "metadata": {
        "id": "cPH4J6oLuHDx"
      }
    },
    {
      "cell_type": "markdown",
      "source": [
        "DT"
      ],
      "metadata": {
        "id": "Vny3lA3PvKTv"
      }
    },
    {
      "cell_type": "code",
      "source": [
        "from sklearn.datasets import load_breast_cancer\n",
        "dataset = load_breast_cancer()\n",
        "X, y = dataset.data, dataset.target\n",
        "X_train, X_test, y_train, y_test = train_test_split(X, y, test_size=0.3, random_state=42)\n",
        "clf = tree.DecisionTreeClassifier()\n",
        "y_pred = clf.fit(X_train, y_train).predict(X_test)\n",
        "clf = clf.fit(X, y)\n",
        "\n",
        "\n",
        "tree.plot_tree(clf)\n",
        "[...]\n",
        "from sklearn.metrics import confusion_matrix, accuracy_score\n",
        "ac = accuracy_score(y_test,y_pred)\n",
        "cm = confusion_matrix(y_test, y_pred)\n",
        "\n",
        "print(\"The confusion matrix is: \")\n",
        "print(cm)\n",
        "print(\"The accuracy score is: \")\n",
        "print(ac)"
      ],
      "metadata": {
        "colab": {
          "base_uri": "https://localhost:8080/",
          "height": 335
        },
        "id": "mdVM8HaMvDFQ",
        "outputId": "ba766031-58a4-4c1f-d548-50de6bb42829"
      },
      "execution_count": null,
      "outputs": [
        {
          "output_type": "stream",
          "name": "stdout",
          "text": [
            "The confusion matrix is: \n",
            "[[ 58   5]\n",
            " [  8 100]]\n",
            "The accuracy score is: \n",
            "0.9239766081871345\n"
          ]
        },
        {
          "output_type": "display_data",
          "data": {
            "text/plain": [
              "<Figure size 432x288 with 1 Axes>"
            ],
            "image/png": "[encoded data removed]"
          },
          "metadata": {
            "needs_background": "light"
          }
        }
      ]
    },
    {
      "cell_type": "markdown",
      "source": [
        "NB"
      ],
      "metadata": {
        "id": "KdSQ6-qAvL1P"
      }
    },
    {
      "cell_type": "code",
      "source": [
        "X, y = load_breast_cancer(return_X_y=True)\n",
        "X_train, X_test, y_train, y_test = train_test_split(X, y, test_size=0.3, random_state=42)\n",
        "gnb = GaussianNB()\n",
        "y_pred = gnb.fit(X_train, y_train).predict(X_test)\n",
        "print(\"Number of mislabeled points out of a total %d points : %d\"% (X_test.shape[0], (y_test != y_pred).sum()))\n",
        "from sklearn.metrics import confusion_matrix, accuracy_score\n",
        "ac = accuracy_score(y_test,y_pred)\n",
        "cm = confusion_matrix(y_test, y_pred)\n",
        "\n",
        "print(\"The confusion matrix is: \")\n",
        "print(cm)\n",
        "print(\"The accuracy score is: \")\n",
        "print(ac)\n"
      ],
      "metadata": {
        "colab": {
          "base_uri": "https://localhost:8080/"
        },
        "id": "GR_00B67uV4K",
        "outputId": "6f8ae3ee-8706-48d6-b90b-6214ee6d4605"
      },
      "execution_count": null,
      "outputs": [
        {
          "output_type": "stream",
          "name": "stdout",
          "text": [
            "Number of mislabeled points out of a total 171 points : 10\n",
            "The confusion matrix is: \n",
            "[[ 57   6]\n",
            " [  4 104]]\n",
            "The accuracy score is: \n",
            "0.9415204678362573\n"
          ]
        }
      ]
    },
    {
      "cell_type": "markdown",
      "source": [
        "AUROC for Iris dataset"
      ],
      "metadata": {
        "id": "IFJE6o7Hr7u6"
      }
    },
    {
      "cell_type": "code",
      "source": [
        "import sklearn.metrics as metrics\n",
        "auc = metrics.roc_auc_score(y_test, y_pred)\n",
        "\n",
        "false_positive_rate, true_positive_rate, thresolds = metrics.roc_curve(y_test, y_pred)\n",
        "\n",
        "plt.figure(figsize=(8, 8), dpi=80)\n",
        "plt.axis('scaled')\n",
        "plt.xlim([0, 1])\n",
        "plt.ylim([0, 1])\n",
        "plt.title(\"AUC & ROC Curve\")\n",
        "plt.plot(false_positive_rate, true_positive_rate, 'g')\n",
        "plt.fill_between(false_positive_rate, true_positive_rate, facecolor='lightgreen', alpha=0.5)\n",
        "plt.text(0.95, 0.05, 'AUC = %0.4f' % auc, ha='right', fontsize=12, weight='bold', color='blue')\n",
        "plt.xlabel(\"False Positive Rate\")\n",
        "plt.ylabel(\"True Positive Rate\")\n",
        "plt.show()"
      ],
      "metadata": {
        "colab": {
          "base_uri": "https://localhost:8080/",
          "height": 565
        },
        "id": "oAHfbHnjr__b",
        "outputId": "9cd22134-adf5-47b5-9b9d-9a5e7342edaa"
      },
      "execution_count": null,
      "outputs": [
        {
          "output_type": "display_data",
          "data": {
            "text/plain": [
              "<Figure size 640x640 with 1 Axes>"
            ],
            "image/png": "[encoded data removed]"
          },
          "metadata": {
            "needs_background": "light"
          }
        }
      ]
    },
    {
      "cell_type": "code",
      "source": [
        "from sklearn.model_selection import KFold\n",
        "from sklearn.model_selection import cross_val_score\n",
        "from numpy import mean\n",
        "from numpy import std\n",
        "# prepare the cross-validation procedure\n",
        "kfold = KFold(n_splits=10, random_state=1, shuffle=True)\n",
        "# create model\n",
        "model = gnb\n",
        "# evaluate model\n",
        "scores = cross_val_score(model, X, y, scoring='accuracy', cv=kfold, n_jobs=-1)\n",
        "# report performance\n",
        "print('Accuracy: %.3f (%.3f)' % (mean(scores), std(scores)))"
      ],
      "metadata": {
        "colab": {
          "base_uri": "https://localhost:8080/"
        },
        "id": "kCQVKqZcvS-f",
        "outputId": "ac854caf-cacf-45b7-b433-72777996025f"
      },
      "execution_count": null,
      "outputs": [
        {
          "output_type": "stream",
          "name": "stdout",
          "text": [
            "Accuracy: 0.942 (0.026)\n"
          ]
        }
      ]
    },
    {
      "cell_type": "code",
      "source": [
        "from sklearn.ensemble import BaggingClassifier\n",
        "from sklearn import model_selection\n",
        "base_cls = tree.DecisionTreeClassifier()\n",
        "num_trees = 500\n",
        "seed = 8\n",
        "model = BaggingClassifier(base_estimator = base_cls,n_estimators = num_trees,random_state = seed)\n",
        "  \n",
        "results = model_selection.cross_val_score(model, X, y, cv = kfold)\n",
        "print(\"accuracy :\")\n",
        "print(results.mean())"
      ],
      "metadata": {
        "colab": {
          "base_uri": "https://localhost:8080/"
        },
        "id": "uaJieDu2w_sP",
        "outputId": "7a26f208-7e74-405f-8a7c-b91136283cf6"
      },
      "execution_count": null,
      "outputs": [
        {
          "output_type": "stream",
          "name": "stdout",
          "text": [
            "accuracy :\n",
            "0.9613095238095237\n"
          ]
        }
      ]
    },
    {
      "cell_type": "code",
      "source": [
        "from sklearn.ensemble import AdaBoostClassifier\n",
        "model = AdaBoostClassifier(\n",
        "tree.DecisionTreeClassifier(),\n",
        "n_estimators=100,\n",
        "learning_rate=1.0)\n",
        "model.fit(X_train, y_train)\n",
        "predictions = model.predict(X_test)\n",
        "print(predictions)"
      ],
      "metadata": {
        "colab": {
          "base_uri": "https://localhost:8080/"
        },
        "id": "Pn-Kud6zx4bi",
        "outputId": "137a6343-56cc-4f6e-c036-9a14adb49c29"
      },
      "execution_count": null,
      "outputs": [
        {
          "output_type": "stream",
          "name": "stdout",
          "text": [
            "[1 0 0 1 1 0 0 0 1 1 0 0 1 0 1 0 1 1 1 0 1 1 0 1 1 1 1 1 1 0 1 1 1 1 1 1 0\n",
            " 1 0 1 1 0 1 1 1 1 0 0 1 1 0 0 1 1 1 1 1 0 0 1 1 0 0 1 1 1 0 0 1 1 0 0 1 0\n",
            " 1 1 1 0 1 1 0 1 1 0 0 0 0 0 1 1 1 1 0 1 1 1 0 0 1 0 0 1 0 0 1 1 1 0 1 1 0\n",
            " 1 1 0 1 0 1 1 1 0 0 1 1 0 1 0 0 1 1 0 0 0 1 1 1 1 0 1 1 0 1 0 1 1 0 1 0 0\n",
            " 0 1 0 1 1 1 0 0 0 1 1 1 1 1 1 1 1 1 1 1 1 0 1]\n"
          ]
        }
      ]
    }
  ]
}